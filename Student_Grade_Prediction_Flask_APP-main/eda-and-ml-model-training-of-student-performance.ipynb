{
 "cells": [
  {
   "attachments": {},
   "cell_type": "markdown",
   "metadata": {},
   "source": [
    "## 1. Problem Statement\n",
    "\n",
    "* The problem statement is how the student's performance(test score) is affected by other variables such as gender, race/ethinicity, parental level of education, lunch and test preparation course. "
   ]
  },
  {
   "cell_type": "markdown",
   "metadata": {},
   "source": [
    "## 2. Data Collection and Import Required Packages "
   ]
  },
  {
   "cell_type": "code",
   "execution_count": 4,
   "metadata": {
    "execution": {
     "iopub.execute_input": "2023-03-22T17:05:14.194632Z",
     "iopub.status.busy": "2023-03-22T17:05:14.194196Z",
     "iopub.status.idle": "2023-03-22T17:05:14.214403Z",
     "shell.execute_reply": "2023-03-22T17:05:14.212854Z",
     "shell.execute_reply.started": "2023-03-22T17:05:14.194595Z"
    }
   },
   "outputs": [],
   "source": [
    "# Basic Import\n",
    "import pandas as pd\n",
    "import numpy as np\n",
    "import seaborn as sns\n",
    "import matplotlib.pyplot as plt\n",
    "%matplotlib inline\n",
    "import os\n",
    "\n",
    "# Modelling\n",
    "from sklearn.metrics import mean_squared_error, r2_score\n",
    "from sklearn.neighbors import KNeighborsRegressor\n",
    "from sklearn.tree import DecisionTreeRegressor\n",
    "from sklearn.ensemble import RandomForestRegressor,AdaBoostRegressor\n",
    "from sklearn.svm import SVR\n",
    "from sklearn.linear_model import LinearRegression, Ridge,Lasso\n",
    "from sklearn.metrics import r2_score, mean_absolute_error, mean_squared_error\n",
    "from sklearn.model_selection import RandomizedSearchCV\n",
    "from catboost import CatBoostRegressor\n",
    "from xgboost import XGBRegressor\n",
    "\n",
    "import warnings\n",
    "warnings.filterwarnings('ignore')"
   ]
  },
  {
   "cell_type": "code",
   "execution_count": null,
   "metadata": {
    "execution": {
     "iopub.execute_input": "2023-03-22T17:05:14.216473Z",
     "iopub.status.busy": "2023-03-22T17:05:14.215988Z",
     "iopub.status.idle": "2023-03-22T17:05:14.252332Z",
     "shell.execute_reply": "2023-03-22T17:05:14.250793Z",
     "shell.execute_reply.started": "2023-03-22T17:05:14.216422Z"
    }
   },
   "outputs": [],
   "source": [
    "for dirname, _, filenames in os.walk('/kaggle/input'):\n",
    "    for filename in filenames:\n",
    "        student_performance_data=os.path.join(dirname, filename)\n",
    "#         print(os.path.join(dirname, filename))\n",
    "df = pd.read_csv(student_performance_data)\n",
    "print(\"Data Shape is :\",df.shape)\n",
    "print(\"\\nShow Top 10 Records\")\n",
    "df.head(10)"
   ]
  },
  {
   "cell_type": "markdown",
   "metadata": {},
   "source": [
    "## 3. Dataset Checking to perform\n",
    "* Check Missing Value\n",
    "* Check Duplicate\n",
    "* Check Datatype\n",
    "* Check the number of unique values of each column\n",
    "* check statistics of data set\n",
    "* check various categories present in the different categorical column"
   ]
  },
  {
   "cell_type": "markdown",
   "metadata": {},
   "source": [
    "### 3.1 Checking Missing Values"
   ]
  },
  {
   "cell_type": "code",
   "execution_count": null,
   "metadata": {
    "execution": {
     "iopub.execute_input": "2023-03-22T17:05:14.256007Z",
     "iopub.status.busy": "2023-03-22T17:05:14.255503Z",
     "iopub.status.idle": "2023-03-22T17:05:14.267245Z",
     "shell.execute_reply": "2023-03-22T17:05:14.265947Z",
     "shell.execute_reply.started": "2023-03-22T17:05:14.255955Z"
    }
   },
   "outputs": [],
   "source": [
    "df.isna().sum()"
   ]
  },
  {
   "cell_type": "markdown",
   "metadata": {},
   "source": [
    "**Result:** There are no missing values in the data set."
   ]
  },
  {
   "cell_type": "markdown",
   "metadata": {},
   "source": [
    "### 3.2 Checking Duplicates"
   ]
  },
  {
   "cell_type": "code",
   "execution_count": null,
   "metadata": {
    "execution": {
     "iopub.execute_input": "2023-03-22T17:05:14.269810Z",
     "iopub.status.busy": "2023-03-22T17:05:14.269355Z",
     "iopub.status.idle": "2023-03-22T17:05:14.282454Z",
     "shell.execute_reply": "2023-03-22T17:05:14.281041Z",
     "shell.execute_reply.started": "2023-03-22T17:05:14.269763Z"
    }
   },
   "outputs": [],
   "source": [
    "df.duplicated().sum()"
   ]
  },
  {
   "cell_type": "markdown",
   "metadata": {},
   "source": [
    "**Result:** There are no duplicates values in the data set"
   ]
  },
  {
   "cell_type": "markdown",
   "metadata": {},
   "source": [
    "### 3.3 Checking Data Types"
   ]
  },
  {
   "cell_type": "code",
   "execution_count": null,
   "metadata": {
    "execution": {
     "iopub.execute_input": "2023-03-22T17:05:14.286791Z",
     "iopub.status.busy": "2023-03-22T17:05:14.284061Z",
     "iopub.status.idle": "2023-03-22T17:05:14.302761Z",
     "shell.execute_reply": "2023-03-22T17:05:14.301245Z",
     "shell.execute_reply.started": "2023-03-22T17:05:14.286729Z"
    }
   },
   "outputs": [],
   "source": [
    "df.info()"
   ]
  },
  {
   "cell_type": "markdown",
   "metadata": {},
   "source": [
    "### 3.4 Checking the number of unique values of each column"
   ]
  },
  {
   "cell_type": "code",
   "execution_count": null,
   "metadata": {
    "execution": {
     "iopub.execute_input": "2023-03-22T17:05:14.304958Z",
     "iopub.status.busy": "2023-03-22T17:05:14.304621Z",
     "iopub.status.idle": "2023-03-22T17:05:14.316520Z",
     "shell.execute_reply": "2023-03-22T17:05:14.315002Z",
     "shell.execute_reply.started": "2023-03-22T17:05:14.304927Z"
    }
   },
   "outputs": [],
   "source": [
    "df.nunique()"
   ]
  },
  {
   "cell_type": "markdown",
   "metadata": {},
   "source": [
    "### 3.5 Print numerical and categorical columns"
   ]
  },
  {
   "cell_type": "code",
   "execution_count": null,
   "metadata": {
    "execution": {
     "iopub.execute_input": "2023-03-22T17:05:14.318893Z",
     "iopub.status.busy": "2023-03-22T17:05:14.318046Z",
     "iopub.status.idle": "2023-03-22T17:05:14.326322Z",
     "shell.execute_reply": "2023-03-22T17:05:14.325169Z",
     "shell.execute_reply.started": "2023-03-22T17:05:14.318852Z"
    }
   },
   "outputs": [],
   "source": [
    "# Define numerical & categorical columns\n",
    "numeric_columns = [column for column in df.columns if df[column].dtype != 'O']\n",
    "categorical_columns = [column for column in df.columns if df[column].dtype == 'O']\n",
    "\n",
    "# print columns\n",
    "print('We have {} numerical columns(features) : {}'.format(len(numeric_columns), numeric_columns))\n",
    "print('\\nWe have {} categorical columns(features) : {}'.format(len(categorical_columns), categorical_columns))"
   ]
  },
  {
   "cell_type": "markdown",
   "metadata": {},
   "source": [
    "### 3.6 Print the number of unique values of each categorical column"
   ]
  },
  {
   "cell_type": "code",
   "execution_count": null,
   "metadata": {
    "execution": {
     "iopub.execute_input": "2023-03-22T17:05:14.330880Z",
     "iopub.status.busy": "2023-03-22T17:05:14.330092Z",
     "iopub.status.idle": "2023-03-22T17:05:14.339137Z",
     "shell.execute_reply": "2023-03-22T17:05:14.338117Z",
     "shell.execute_reply.started": "2023-03-22T17:05:14.330835Z"
    }
   },
   "outputs": [],
   "source": [
    "# print(\"Categories in 'gender' variable:     \",end=\" \" )\n",
    "# print(df['gender'].unique())\n",
    "for feature in df.columns :\n",
    "    if df[feature].dtype == 'O':\n",
    "        print('Categories in {} variable : {}'.format(feature,df[feature].unique()))"
   ]
  },
  {
   "cell_type": "markdown",
   "metadata": {},
   "source": [
    "### 3.7 Checking statistics of data set"
   ]
  },
  {
   "cell_type": "code",
   "execution_count": null,
   "metadata": {
    "execution": {
     "iopub.execute_input": "2023-03-22T17:05:14.340966Z",
     "iopub.status.busy": "2023-03-22T17:05:14.340638Z",
     "iopub.status.idle": "2023-03-22T17:05:14.368925Z",
     "shell.execute_reply": "2023-03-22T17:05:14.367472Z",
     "shell.execute_reply.started": "2023-03-22T17:05:14.340934Z"
    }
   },
   "outputs": [],
   "source": [
    "df.describe()"
   ]
  },
  {
   "cell_type": "markdown",
   "metadata": {},
   "source": [
    "**Insight**\n",
    "* From above description all means are very close to each other: Between 66 and 69.16\n",
    "* All standard deviations are also close to each other: Between 14.60 and 15.19\n",
    "* Minimum score for math is 0, Minimum score for reading is 17, Minimum score for writing is 10"
   ]
  },
  {
   "cell_type": "markdown",
   "metadata": {},
   "source": [
    "### 3.8 Adding 'Total' and 'Average' Columns"
   ]
  },
  {
   "cell_type": "code",
   "execution_count": null,
   "metadata": {
    "execution": {
     "iopub.execute_input": "2023-03-22T17:05:14.372019Z",
     "iopub.status.busy": "2023-03-22T17:05:14.371042Z",
     "iopub.status.idle": "2023-03-22T17:05:14.390290Z",
     "shell.execute_reply": "2023-03-22T17:05:14.388895Z",
     "shell.execute_reply.started": "2023-03-22T17:05:14.371977Z"
    }
   },
   "outputs": [],
   "source": [
    "df['total score']= df['math score'] + df['reading score'] + df['writing score']\n",
    "df['avg score'] = df['total score']/3\n",
    "df.head()"
   ]
  },
  {
   "cell_type": "markdown",
   "metadata": {},
   "source": [
    "### 3.9 Counting the total number of students who obtained full marks and those who scored less than 25 marks in Mathematics, Reading, and Writing."
   ]
  },
  {
   "cell_type": "code",
   "execution_count": null,
   "metadata": {
    "execution": {
     "iopub.execute_input": "2023-03-22T17:05:14.392458Z",
     "iopub.status.busy": "2023-03-22T17:05:14.391988Z",
     "iopub.status.idle": "2023-03-22T17:05:14.405137Z",
     "shell.execute_reply": "2023-03-22T17:05:14.403726Z",
     "shell.execute_reply.started": "2023-03-22T17:05:14.392412Z"
    }
   },
   "outputs": [],
   "source": [
    "math_full_score = df[df['math score']==100]['math score'].count()\n",
    "reading_full_score = df[df['reading score']==100]['reading score'].count()\n",
    "writing_full_score =  df[df['writing score']==100]['writing score'].count()\n",
    "\n",
    "print(f'Number of students with full marks in Maths: {math_full_score }')\n",
    "print(f'Number of students with full marks in Reading: {reading_full_score}')\n",
    "print(f'Number of students with full marks in Writing: {writing_full_score}')"
   ]
  },
  {
   "cell_type": "code",
   "execution_count": null,
   "metadata": {
    "execution": {
     "iopub.execute_input": "2023-03-22T17:05:14.407268Z",
     "iopub.status.busy": "2023-03-22T17:05:14.406802Z",
     "iopub.status.idle": "2023-03-22T17:05:14.423363Z",
     "shell.execute_reply": "2023-03-22T17:05:14.422247Z",
     "shell.execute_reply.started": "2023-03-22T17:05:14.407201Z"
    }
   },
   "outputs": [],
   "source": [
    "math_less_25 = df[df['math score'] <= 25]['math score'].count()\n",
    "reading_less_25 = df[df['reading score'] <= 25]['reading score'].count()\n",
    "writing_less_25 = df[df['writing score'] <= 25]['writing score'].count()\n",
    "\n",
    "\n",
    "print(f'Number of students with less than 25 marks in Maths: {math_less_25}')\n",
    "print(f'Number of students with less than 25 marks in Reading: {reading_less_25}')\n",
    "print(f'Number of students with less than 25 marks in Writing: {writing_less_25}')"
   ]
  },
  {
   "cell_type": "markdown",
   "metadata": {},
   "source": [
    "**Insight**\n",
    "* From above values we get students have performed the worst in Maths\n",
    "* Best performance is in reading section"
   ]
  },
  {
   "cell_type": "markdown",
   "metadata": {},
   "source": [
    "## 4. Visualizing the Data"
   ]
  },
  {
   "cell_type": "markdown",
   "metadata": {},
   "source": [
    "### 4.1 Gender wise Average Score, Math Score, Reading Score, Writing Score distribution"
   ]
  },
  {
   "cell_type": "code",
   "execution_count": null,
   "metadata": {
    "execution": {
     "iopub.execute_input": "2023-03-22T17:05:14.424766Z",
     "iopub.status.busy": "2023-03-22T17:05:14.424424Z",
     "iopub.status.idle": "2023-03-22T17:05:15.990855Z",
     "shell.execute_reply": "2023-03-22T17:05:15.989367Z",
     "shell.execute_reply.started": "2023-03-22T17:05:14.424732Z"
    }
   },
   "outputs": [],
   "source": [
    "fig, axs = plt.subplots(2, 2, figsize=(20, 10))\n",
    "\n",
    "sns.histplot(data=df,x='avg score',kde=True,hue='gender',ax=axs[0, 0])\n",
    "axs[0, 0].set_title('Gender wise Avg Score')\n",
    "\n",
    "sns.histplot(data=df,x='math score',kde=True,hue='gender',ax=axs[0, 1])\n",
    "axs[0, 1].set_title('Gender wise Math Score')\n",
    "\n",
    "sns.histplot(data=df,x='reading score',kde=True,hue='gender',ax=axs[1, 0])\n",
    "axs[1, 0].set_title('Gender wise Reading Score')\n",
    "\n",
    "sns.histplot(data=df,x='writing score',kde=True,hue='gender',ax=axs[1, 1])\n",
    "axs[1, 1].set_title('Gender wise Writing Score')\n",
    "\n",
    "plt.show()"
   ]
  },
  {
   "cell_type": "markdown",
   "metadata": {},
   "source": [
    "**Insights**\n",
    "* Female students tend to perform well then male students"
   ]
  },
  {
   "cell_type": "markdown",
   "metadata": {},
   "source": [
    "### 4.2 Lunch Group wise Score Distribution"
   ]
  },
  {
   "cell_type": "code",
   "execution_count": null,
   "metadata": {
    "execution": {
     "iopub.execute_input": "2023-03-22T17:05:15.993642Z",
     "iopub.status.busy": "2023-03-22T17:05:15.993073Z",
     "iopub.status.idle": "2023-03-22T17:05:17.196298Z",
     "shell.execute_reply": "2023-03-22T17:05:17.194806Z",
     "shell.execute_reply.started": "2023-03-22T17:05:15.993589Z"
    }
   },
   "outputs": [],
   "source": [
    "fig, axs = plt.subplots(1, 3, figsize=(24,8))\n",
    "\n",
    "axs[0].set_title('Lunch Group Distribution of Avg Score(All)')\n",
    "sns.histplot(data=df, x='avg score', kde=True, hue='lunch', ax=axs[0])\n",
    "\n",
    "axs[1].set_title('Lunch Group Distribution of Avg Score(Female)')\n",
    "sns.histplot(data=df[df.gender=='female'], x='avg score', kde=True, hue='lunch', ax=axs[1])\n",
    "\n",
    "axs[2].set_title('Lunch Group Distribution of Avg Score(Male)')\n",
    "sns.histplot(data=df[df.gender=='male'], x='avg score', kde=True, hue='lunch', ax=axs[2])\n",
    "\n",
    "plt.show()"
   ]
  },
  {
   "cell_type": "markdown",
   "metadata": {},
   "source": [
    "**Insights**\n",
    "* Standard lunch helps perform well in exams.\n",
    "* Standard lunch helps perform well in exams be it a male or a female."
   ]
  },
  {
   "cell_type": "markdown",
   "metadata": {},
   "source": [
    "### 4.3 parental level of education wise Score Distribution"
   ]
  },
  {
   "cell_type": "code",
   "execution_count": null,
   "metadata": {
    "execution": {
     "iopub.execute_input": "2023-03-22T17:05:17.198692Z",
     "iopub.status.busy": "2023-03-22T17:05:17.198355Z",
     "iopub.status.idle": "2023-03-22T17:05:19.381425Z",
     "shell.execute_reply": "2023-03-22T17:05:19.380408Z",
     "shell.execute_reply.started": "2023-03-22T17:05:17.198660Z"
    }
   },
   "outputs": [],
   "source": [
    "fig, axs = plt.subplots(1, 3, figsize=(24,8))\n",
    "\n",
    "axs[0].set_title('parental level of education wise Distribution of Avg Score(All)')\n",
    "sns.histplot(data=df, x='avg score', kde=True, hue='parental level of education', ax=axs[0])\n",
    "\n",
    "axs[1].set_title('parental level of education wise Distribution of Avg Score(Female)')\n",
    "sns.histplot(data=df[df.gender=='female'], x='avg score', kde=True, hue='parental level of education', ax=axs[1])\n",
    "\n",
    "axs[2].set_title('parental level of education wise Distribution of Avg Score(Male)')\n",
    "sns.histplot(data=df[df.gender=='male'], x='avg score', kde=True, hue='parental level of education', ax=axs[2])\n",
    "\n",
    "plt.show()"
   ]
  },
  {
   "cell_type": "markdown",
   "metadata": {},
   "source": [
    "**Insights**\n",
    "* In general parent's education don't help student perform well in exam.\n",
    "* 2nd plot shows that parent's whose education is of associate's degree or master's degree their male child tend to perform well in exam\n",
    "* 3rd plot we can see there is no effect of parent's education on female students."
   ]
  },
  {
   "cell_type": "markdown",
   "metadata": {},
   "source": [
    "### 4.4 race/ethnicity wise Score Distribution"
   ]
  },
  {
   "cell_type": "code",
   "execution_count": null,
   "metadata": {
    "execution": {
     "iopub.execute_input": "2023-03-22T17:05:19.384113Z",
     "iopub.status.busy": "2023-03-22T17:05:19.382711Z",
     "iopub.status.idle": "2023-03-22T17:05:21.133867Z",
     "shell.execute_reply": "2023-03-22T17:05:21.132743Z",
     "shell.execute_reply.started": "2023-03-22T17:05:19.384069Z"
    }
   },
   "outputs": [],
   "source": [
    "fig, axs = plt.subplots(1, 3, figsize=(24,8))\n",
    "\n",
    "axs[0].set_title('race/ethnicity wise Distribution of Avg Score(All)')\n",
    "sns.histplot(data=df, x='avg score', kde=True, hue='race/ethnicity', ax=axs[0])\n",
    "\n",
    "axs[1].set_title('race/ethnicity wise Distribution of Avg Score(Female)')\n",
    "sns.histplot(data=df[df.gender=='female'], x='avg score', kde=True, hue='race/ethnicity', ax=axs[1])\n",
    "\n",
    "axs[2].set_title('race/ethnicity wise Distribution of Avg Score(Male)')\n",
    "sns.histplot(data=df[df.gender=='male'], x='avg score', kde=True, hue='race/ethnicity', ax=axs[2])\n",
    "\n",
    "plt.show()"
   ]
  },
  {
   "cell_type": "markdown",
   "metadata": {},
   "source": [
    "**Insights**\n",
    "* Students of group A and group B tends to perform poorly in exam.\n",
    "* Students of group A and group B tends to perform poorly in exam irrespective of whether they are male or female"
   ]
  },
  {
   "cell_type": "markdown",
   "metadata": {},
   "source": [
    "### 4.5 score of students in all three subjects"
   ]
  },
  {
   "cell_type": "code",
   "execution_count": null,
   "metadata": {
    "execution": {
     "iopub.execute_input": "2023-03-22T17:05:21.135682Z",
     "iopub.status.busy": "2023-03-22T17:05:21.135341Z",
     "iopub.status.idle": "2023-03-22T17:05:21.575777Z",
     "shell.execute_reply": "2023-03-22T17:05:21.574469Z",
     "shell.execute_reply.started": "2023-03-22T17:05:21.135650Z"
    }
   },
   "outputs": [],
   "source": [
    "plt.figure(figsize=(18,8))\n",
    "plt.subplot(1, 4, 1)\n",
    "plt.title('MATH SCORES')\n",
    "sns.violinplot(y='math score',data=df,color='red',linewidth=3)\n",
    "plt.subplot(1, 4, 2)\n",
    "plt.title('READING SCORES')\n",
    "sns.violinplot(y='reading score',data=df,color='green',linewidth=3)\n",
    "plt.subplot(1, 4, 3)\n",
    "plt.title('WRITING SCORES')\n",
    "sns.violinplot(y='writing score',data=df,color='blue',linewidth=3)\n",
    "plt.show()"
   ]
  },
  {
   "cell_type": "markdown",
   "metadata": {},
   "source": [
    "**Insights**\n",
    "* From the above three plots its clearly visible that most of the students score in between 60-80 in Maths whereas in reading and writing most of them score from 50-80"
   ]
  },
  {
   "cell_type": "markdown",
   "metadata": {},
   "source": [
    "### 4.6 Multivariate analysis using pieplot"
   ]
  },
  {
   "cell_type": "code",
   "execution_count": null,
   "metadata": {
    "execution": {
     "iopub.execute_input": "2023-03-22T17:05:21.578419Z",
     "iopub.status.busy": "2023-03-22T17:05:21.577956Z",
     "iopub.status.idle": "2023-03-22T17:05:22.335023Z",
     "shell.execute_reply": "2023-03-22T17:05:22.333600Z",
     "shell.execute_reply.started": "2023-03-22T17:05:21.578377Z"
    }
   },
   "outputs": [],
   "source": [
    "plt.figure(figsize=(20, 10))\n",
    "\n",
    "# Gender\n",
    "plt.subplot(2, 3, 1)\n",
    "size = df['gender'].value_counts()\n",
    "labels = ['Female', 'Male']\n",
    "colors = ['#F7CAC9', '#92DCE5']\n",
    "\n",
    "plt.pie(size, colors=colors, labels=labels, autopct='%.1f%%', startangle=90)\n",
    "plt.title('Gender',fontsize=16)\n",
    "\n",
    "# Race/Ethnicity\n",
    "plt.subplot(2, 3, 2)\n",
    "size = df['race/ethnicity'].value_counts()\n",
    "labels = ['Group C', 'Group D', 'Group B', 'Group E', 'Group A']\n",
    "colors = ['#92DCE5', '#F7CAC9', '#FFDF64', '#A0E8AF', '#FF9AA2']\n",
    "\n",
    "plt.pie(size, colors=colors, labels=labels, autopct='%.1f%%', startangle=90)\n",
    "plt.title('Race/Ethnicity',fontsize=16)\n",
    "\n",
    "# Lunch\n",
    "plt.subplot(2, 3, 3)\n",
    "size = df['lunch'].value_counts()\n",
    "labels = ['Standard', 'Free/Reduced']\n",
    "colors = ['#A0E8AF', '#FF9AA2']\n",
    "\n",
    "plt.pie(size, colors=colors, labels=labels, autopct='%.1f%%', startangle=90)\n",
    "plt.title('Lunch',fontsize=16)\n",
    "\n",
    "# Test Preparation Course\n",
    "plt.subplot(2, 3, 4)\n",
    "size = df['test preparation course'].value_counts()\n",
    "labels = ['None', 'Completed']\n",
    "colors = ['#FF9AA2', '#A0E8AF']\n",
    "\n",
    "plt.pie(size, colors=colors, labels=labels, autopct='%.1f%%', startangle=90)\n",
    "plt.title('Test Preparation Course',fontsize=16)\n",
    "\n",
    "# Parental Level of Education\n",
    "plt.subplot(2, 3, 5)\n",
    "size = df['parental level of education'].value_counts()\n",
    "labels = [\"Some College\", \"Associate's Degree\", \"High School\", \"Some High School\", \"Bachelor's Degree\", \"Master's Degree\"]\n",
    "colors = ['#92DCE5', '#FFDF64', '#FF9AA2', '#F7CAC9', '#A0E8AF', '#FFB347']\n",
    "\n",
    "plt.pie(size, colors=colors, labels=labels, autopct='%.1f%%', startangle=90)\n",
    "plt.title('Parental Level of Education',fontsize=16)\n",
    "\n",
    "plt.tight_layout()\n",
    "plt.show()\n"
   ]
  },
  {
   "cell_type": "markdown",
   "metadata": {},
   "source": [
    "**Insights**\n",
    "* Gender wise Number of Male and Female students is almost equal\n",
    "* Race/Ethnicity wise Number students are greatest in Group C\n",
    "* Lunch wise Number of students who have standard lunch are greater\n",
    "* Test Preparation Course wise Number of students who have not enrolled in any test preparation course is greater\n",
    "* Parental Level of Education wise Number of students whose parental education is \"Some College\" is greater followed closely by \"Associate's Degree\""
   ]
  },
  {
   "cell_type": "markdown",
   "metadata": {},
   "source": [
    "### 4.7 Feature wise Visualization"
   ]
  },
  {
   "cell_type": "markdown",
   "metadata": {},
   "source": [
    "### 4.7.1 Gender Column\n",
    "* How is distribution of Gender ?\n",
    "* Is gender has any impact on student's performance?"
   ]
  },
  {
   "cell_type": "markdown",
   "metadata": {},
   "source": [
    "#### How is distribution of Gender? **(Univariate Analysis)**"
   ]
  },
  {
   "cell_type": "code",
   "execution_count": null,
   "metadata": {
    "execution": {
     "iopub.execute_input": "2023-03-22T17:05:22.336765Z",
     "iopub.status.busy": "2023-03-22T17:05:22.336428Z",
     "iopub.status.idle": "2023-03-22T17:05:22.880086Z",
     "shell.execute_reply": "2023-03-22T17:05:22.878769Z",
     "shell.execute_reply.started": "2023-03-22T17:05:22.336730Z"
    }
   },
   "outputs": [],
   "source": [
    "# set the color palette\n",
    "colors = sns.color_palette('Set2')\n",
    "\n",
    "# create the subplots\n",
    "fig, ax = plt.subplots(1, 2, figsize=(20, 10))\n",
    "\n",
    "# plot the count plot\n",
    "sns.countplot(x=df['gender'], data=df, palette=colors, ax=ax[0], saturation=0.95)\n",
    "\n",
    "# add labels to the bars\n",
    "for container in ax[0].containers:\n",
    "    ax[0].bar_label(container, color='black', fontsize=18)\n",
    "\n",
    "# plot the pie chart\n",
    "pie_colors = ['#ff4d4d', '#ff8000']\n",
    "df['gender'].value_counts().plot(kind='pie', colors=pie_colors, explode=[0, 0.1],\n",
    "                                 autopct='%1.1f%%', shadow=True, ax=ax[1], textprops={'fontsize': 18})\n",
    "# set title and legend\n",
    "ax[0].set_title('Gender Distribution', fontsize=20)\n",
    "ax[1].set_title('Gender Proportions', fontsize=20)\n",
    "ax[1].legend(title='Gender', loc='best', labels=['Male', 'Female'])\n",
    "\n",
    "# show the plot\n",
    "plt.show()\n"
   ]
  },
  {
   "cell_type": "markdown",
   "metadata": {},
   "source": [
    "**Insights**\n",
    "* Gender has balanced data with female students are 518 (48%) and male students are 482 (52%)"
   ]
  },
  {
   "cell_type": "markdown",
   "metadata": {},
   "source": [
    "#### Is gender has any impact on student's performance? **(Bivariate Analysis)**"
   ]
  },
  {
   "cell_type": "code",
   "execution_count": null,
   "metadata": {
    "execution": {
     "iopub.execute_input": "2023-03-22T17:05:22.882423Z",
     "iopub.status.busy": "2023-03-22T17:05:22.881559Z",
     "iopub.status.idle": "2023-03-22T17:05:22.899897Z",
     "shell.execute_reply": "2023-03-22T17:05:22.898477Z",
     "shell.execute_reply.started": "2023-03-22T17:05:22.882386Z"
    }
   },
   "outputs": [],
   "source": [
    "gender_group = df.groupby('gender').mean()\n",
    "gender_group"
   ]
  },
  {
   "cell_type": "code",
   "execution_count": null,
   "metadata": {
    "execution": {
     "iopub.execute_input": "2023-03-22T17:05:22.901957Z",
     "iopub.status.busy": "2023-03-22T17:05:22.901604Z",
     "iopub.status.idle": "2023-03-22T17:05:23.210435Z",
     "shell.execute_reply": "2023-03-22T17:05:23.209139Z",
     "shell.execute_reply.started": "2023-03-22T17:05:22.901924Z"
    }
   },
   "outputs": [],
   "source": [
    "sns.set_palette('Set2')\n",
    "plt.figure(figsize=(10, 8))\n",
    "\n",
    "X = ['Avg Score', 'Math Score', 'Reading Score', 'Writing Score']\n",
    "female_scores = [gender_group['avg score'][0], gender_group['math score'][0], gender_group['reading score'][0], gender_group['writing score'][0]]\n",
    "male_scores = [gender_group['avg score'][1], gender_group['math score'][1], gender_group['reading score'][1], gender_group['writing score'][1]]\n",
    "\n",
    "X_axis = np.arange(len(X))\n",
    "\n",
    "plt.bar(X_axis - 0.2, male_scores, 0.4, label='Male', color='#FBC02D')\n",
    "plt.bar(X_axis + 0.2, female_scores, 0.4, label='Female', color='#7CB342')\n",
    "\n",
    "plt.xticks(X_axis, X)\n",
    "plt.ylabel(\"Marks\")\n",
    "plt.title(\"Avg Score, Math Score, Reading Score, Writing Score of both the genders\")\n",
    "plt.legend()\n",
    "plt.show()"
   ]
  },
  {
   "cell_type": "markdown",
   "metadata": {},
   "source": [
    "**Insights**\n",
    "* On an average females have a better overall score than men.\n",
    "* whereas males have scored higher in Maths."
   ]
  },
  {
   "cell_type": "markdown",
   "metadata": {},
   "source": [
    "### 4.7.2 Race/Ethnicity Column\n",
    "* How is Group wise distribution ?\n",
    "* Is race/ethnicity has any impact on student's performance?"
   ]
  },
  {
   "cell_type": "markdown",
   "metadata": {},
   "source": [
    "#### How is Group wise distribution? **(Univariate Analysis)**"
   ]
  },
  {
   "cell_type": "code",
   "execution_count": null,
   "metadata": {
    "execution": {
     "iopub.execute_input": "2023-03-22T17:05:23.213448Z",
     "iopub.status.busy": "2023-03-22T17:05:23.212521Z",
     "iopub.status.idle": "2023-03-22T17:05:23.894990Z",
     "shell.execute_reply": "2023-03-22T17:05:23.893562Z",
     "shell.execute_reply.started": "2023-03-22T17:05:23.213391Z"
    }
   },
   "outputs": [],
   "source": [
    "# set the color palette\n",
    "colors = sns.color_palette('bright')\n",
    "\n",
    "# create the subplots\n",
    "fig, ax = plt.subplots(1, 2, figsize=(20, 10))\n",
    "\n",
    "# plot the count plot\n",
    "sns.countplot(x=df['race/ethnicity'], data=df, palette=colors, ax=ax[0], saturation=0.95)\n",
    "\n",
    "# add labels to the bars\n",
    "for container in ax[0].containers:\n",
    "    ax[0].bar_label(container, color='black', fontsize=14)\n",
    "\n",
    "# plot the pie chart\n",
    "explode = [0.1, 0, 0, 0, 0]\n",
    "df['race/ethnicity'].value_counts().plot(kind='pie', colors=colors, explode=explode,\n",
    "                                         autopct='%1.1f%%', shadow=True, ax=ax[1])\n",
    "# set title and legend\n",
    "ax[0].set_title('Race/Ethnicity Distribution', fontsize=20)\n",
    "ax[1].set_title('Race/Ethnicity Proportions', fontsize=20)\n",
    "ax[1].legend(title='Race/Ethnicity', loc='best', labels=df['race/ethnicity'].value_counts().index)\n",
    "\n",
    "# show the plot\n",
    "plt.show()"
   ]
  },
  {
   "cell_type": "markdown",
   "metadata": {},
   "source": [
    "**Insights**\n",
    "* Most of the student belonging from group C /group D.\n",
    "* Lowest number of students belong to groupA."
   ]
  },
  {
   "cell_type": "markdown",
   "metadata": {},
   "source": [
    "#### Is race/ethnicity has any impact on student's performance? **(Bivariate Analysis)**"
   ]
  },
  {
   "cell_type": "code",
   "execution_count": null,
   "metadata": {
    "execution": {
     "iopub.execute_input": "2023-03-22T17:05:23.901431Z",
     "iopub.status.busy": "2023-03-22T17:05:23.900978Z",
     "iopub.status.idle": "2023-03-22T17:05:24.727372Z",
     "shell.execute_reply": "2023-03-22T17:05:24.725905Z",
     "shell.execute_reply.started": "2023-03-22T17:05:23.901389Z"
    }
   },
   "outputs": [],
   "source": [
    "Group_data2 = df.groupby('race/ethnicity')\n",
    "\n",
    "# create the subplots\n",
    "fig, ax = plt.subplots(1, 3, figsize=(20, 8))\n",
    "\n",
    "# plot the math scores\n",
    "sns.barplot(x=Group_data2['math score'].mean().index, y=Group_data2['math score'].mean().values, palette='crest', ax=ax[0])\n",
    "ax[0].set_title('Math Score', color='#236192', size=22)\n",
    "ax[0].set_xlabel('Race/Ethnicity', fontsize=16)\n",
    "ax[0].set_ylabel('Mean Score', fontsize=16)\n",
    "\n",
    "# add labels to the bars\n",
    "for container in ax[0].containers:\n",
    "    ax[0].bar_label(container, color='black', fontsize=14)\n",
    "\n",
    "# plot the reading scores\n",
    "sns.barplot(x=Group_data2['reading score'].mean().index, y=Group_data2['reading score'].mean().values, palette='mako', ax=ax[1])\n",
    "ax[1].set_title('Reading Score', color='#236192', size=22)\n",
    "ax[1].set_xlabel('Race/Ethnicity', fontsize=16)\n",
    "ax[1].set_ylabel('Mean Score', fontsize=16)\n",
    "\n",
    "# add labels to the bars\n",
    "for container in ax[1].containers:\n",
    "    ax[1].bar_label(container, color='black', fontsize=14)\n",
    "\n",
    "# plot the writing scores\n",
    "sns.barplot(x=Group_data2['writing score'].mean().index, y=Group_data2['writing score'].mean().values, palette='rocket_r', ax=ax[2])\n",
    "ax[2].set_title('Writing Score', color='#236192', size=22)\n",
    "ax[2].set_xlabel('Race/Ethnicity', fontsize=16)\n",
    "ax[2].set_ylabel('Mean Score', fontsize=16)\n",
    "\n",
    "# add labels to the bars\n",
    "for container in ax[2].containers:\n",
    "    ax[2].bar_label(container, color='black', fontsize=14)\n",
    "\n",
    "plt.suptitle('Mean Scores by Race/Ethnicity', fontsize=26, color='#236192', y=1.03)\n",
    "plt.tight_layout()\n",
    "plt.show()\n"
   ]
  },
  {
   "cell_type": "markdown",
   "metadata": {},
   "source": [
    "**Insights**\n",
    "* Group E students have scored the highest marks.\n",
    "* Group A students have scored the lowest marks."
   ]
  },
  {
   "cell_type": "markdown",
   "metadata": {},
   "source": [
    "### 4.7.3 Parental Level Of Education Column\n",
    "* What is the best educational background of the student's parents?\n",
    "* Is parental education has any impact on student's performance?"
   ]
  },
  {
   "cell_type": "markdown",
   "metadata": {},
   "source": [
    "#### What is the best educational background of the student's parents? **(Univariate Analysis)**"
   ]
  },
  {
   "cell_type": "code",
   "execution_count": null,
   "metadata": {
    "execution": {
     "iopub.execute_input": "2023-03-22T17:05:24.729054Z",
     "iopub.status.busy": "2023-03-22T17:05:24.728709Z",
     "iopub.status.idle": "2023-03-22T17:05:25.075998Z",
     "shell.execute_reply": "2023-03-22T17:05:25.074662Z",
     "shell.execute_reply.started": "2023-03-22T17:05:24.729021Z"
    }
   },
   "outputs": [],
   "source": [
    "plt.rcParams['figure.figsize'] = (15, 9)\n",
    "plt.style.use('fivethirtyeight')\n",
    "ax = sns.countplot(x='parental level of education', data=df, palette='Blues')\n",
    "plt.title('Comparison of Parental Education', fontsize=18)\n",
    "ax.set(xlabel='Degree', ylabel='Count')\n",
    "for p in ax.patches:\n",
    "    ax.annotate(format(p.get_height(), '.0f'), \n",
    "                (p.get_x() + p.get_width() / 2., p.get_height()), \n",
    "                ha = 'center', va = 'center', \n",
    "                xytext = (0, 10), \n",
    "                textcoords = 'offset points')\n",
    "plt.show()\n"
   ]
  },
  {
   "cell_type": "markdown",
   "metadata": {},
   "source": [
    "**Insights**\n",
    "* Largest number of parents are from some college."
   ]
  },
  {
   "cell_type": "markdown",
   "metadata": {},
   "source": [
    "#### Is parental education has any impact on student's performance? **(Bivariate Analysis)**"
   ]
  },
  {
   "cell_type": "code",
   "execution_count": null,
   "metadata": {
    "execution": {
     "iopub.execute_input": "2023-03-22T17:05:25.078787Z",
     "iopub.status.busy": "2023-03-22T17:05:25.077927Z",
     "iopub.status.idle": "2023-03-22T17:05:25.487332Z",
     "shell.execute_reply": "2023-03-22T17:05:25.486090Z",
     "shell.execute_reply.started": "2023-03-22T17:05:25.078743Z"
    }
   },
   "outputs": [],
   "source": [
    "df.groupby('parental level of education').agg('mean').plot(kind='barh',figsize=(10,10))\n",
    "plt.legend(bbox_to_anchor=(1.05, 1), loc=2, borderaxespad=0.)\n",
    "plt.show()"
   ]
  },
  {
   "cell_type": "markdown",
   "metadata": {},
   "source": [
    "**Insights**\n",
    "* Total score of student whose parents possess master and bachelor level education are higher than others."
   ]
  },
  {
   "cell_type": "code",
   "execution_count": null,
   "metadata": {
    "execution": {
     "iopub.execute_input": "2023-03-22T17:05:25.489617Z",
     "iopub.status.busy": "2023-03-22T17:05:25.489255Z",
     "iopub.status.idle": "2023-03-22T17:05:25.746422Z",
     "shell.execute_reply": "2023-03-22T17:05:25.745151Z",
     "shell.execute_reply.started": "2023-03-22T17:05:25.489583Z"
    }
   },
   "outputs": [],
   "source": [
    "plt.rcParams['figure.figsize'] = (15, 9)\n",
    "plt.style.use('seaborn-talk')\n",
    "ax = sns.countplot(x='lunch', data=df, palette='Blues')\n",
    "plt.title('Comparison of different types of lunch', fontsize=18)\n",
    "for p in ax.patches:\n",
    "    ax.annotate(format(p.get_height(), '.0f'), \n",
    "                (p.get_x() + p.get_width() / 2., p.get_height()), \n",
    "                ha = 'center', va = 'center', \n",
    "                xytext = (0, 10), \n",
    "                textcoords = 'offset points')\n",
    "plt.show()"
   ]
  },
  {
   "cell_type": "markdown",
   "metadata": {},
   "source": [
    "### 4.8 Multivariate Analysis Using Pairplot"
   ]
  },
  {
   "cell_type": "code",
   "execution_count": null,
   "metadata": {
    "execution": {
     "iopub.execute_input": "2023-03-22T17:05:25.749776Z",
     "iopub.status.busy": "2023-03-22T17:05:25.749276Z",
     "iopub.status.idle": "2023-03-22T17:05:33.391901Z",
     "shell.execute_reply": "2023-03-22T17:05:33.390626Z",
     "shell.execute_reply.started": "2023-03-22T17:05:25.749722Z"
    }
   },
   "outputs": [],
   "source": [
    "# Use a modern color palette\n",
    "colors = [\"#72b7b2\", \"#ff9e9d\"]\n",
    "\n",
    "# Set style and context\n",
    "sns.set_style(\"whitegrid\")\n",
    "sns.set_context(\"notebook\", font_scale=1.2)\n",
    "\n",
    "# Create pairplot with hue and custom color palette\n",
    "sns.pairplot(df, hue=\"gender\", palette=colors)\n",
    "\n",
    "# Add some visual enhancements\n",
    "plt.subplots_adjust(top=0.95)\n",
    "plt.suptitle(\"Pairplot of Gender Differences\", fontsize=16)\n",
    "\n",
    "# Show the plot\n",
    "plt.show()\n"
   ]
  },
  {
   "cell_type": "markdown",
   "metadata": {},
   "source": [
    "**Insights**\n",
    "* From the above plot it is clear that all the scores increase linearly with each other."
   ]
  },
  {
   "cell_type": "markdown",
   "metadata": {},
   "source": [
    "### 4.9 Checking Outliers"
   ]
  },
  {
   "cell_type": "code",
   "execution_count": null,
   "metadata": {
    "execution": {
     "iopub.execute_input": "2023-03-22T17:05:33.394450Z",
     "iopub.status.busy": "2023-03-22T17:05:33.393706Z",
     "iopub.status.idle": "2023-03-22T17:05:33.899442Z",
     "shell.execute_reply": "2023-03-22T17:05:33.898472Z",
     "shell.execute_reply.started": "2023-03-22T17:05:33.394404Z"
    }
   },
   "outputs": [],
   "source": [
    "# Define modern color palettes\n",
    "skyblue = \"#00BFFF\"\n",
    "hotpink = \"#FF69B4\"\n",
    "yellow = \"#FFFF00\"\n",
    "lightgreen = \"#90EE90\"\n",
    "\n",
    "# Create subplots with specified figure size\n",
    "fig, axs = plt.subplots(1, 4, figsize=(16, 5))\n",
    "\n",
    "# Plot boxplots for each score column and set color using the defined palettes\n",
    "sns.boxplot(df['math score'], color=skyblue, ax=axs[0])\n",
    "sns.boxplot(df['reading score'], color=hotpink, ax=axs[1])\n",
    "sns.boxplot(df['writing score'], color=yellow, ax=axs[2])\n",
    "sns.boxplot(df['avg score'], color=lightgreen, ax=axs[3])\n",
    "\n",
    "# Set titles for each subplot\n",
    "axs[0].set_title('Math Score')\n",
    "axs[1].set_title('Reading Score')\n",
    "axs[2].set_title('Writing Score')\n",
    "axs[3].set_title('Average Score')\n",
    "\n",
    "# Show the plot\n",
    "plt.show()"
   ]
  },
  {
   "cell_type": "markdown",
   "metadata": {},
   "source": [
    "## 5. Model Training"
   ]
  },
  {
   "cell_type": "markdown",
   "metadata": {},
   "source": [
    "### 5.1 Show Top 10 Records"
   ]
  },
  {
   "cell_type": "code",
   "execution_count": null,
   "metadata": {
    "execution": {
     "iopub.execute_input": "2023-03-22T17:05:33.901800Z",
     "iopub.status.busy": "2023-03-22T17:05:33.901111Z",
     "iopub.status.idle": "2023-03-22T17:05:33.919508Z",
     "shell.execute_reply": "2023-03-22T17:05:33.917938Z",
     "shell.execute_reply.started": "2023-03-22T17:05:33.901758Z"
    }
   },
   "outputs": [],
   "source": [
    "df.head(10)"
   ]
  },
  {
   "cell_type": "markdown",
   "metadata": {},
   "source": [
    "### 5.2 Preparing X and Y variables"
   ]
  },
  {
   "cell_type": "code",
   "execution_count": null,
   "metadata": {
    "execution": {
     "iopub.execute_input": "2023-03-22T17:05:33.922555Z",
     "iopub.status.busy": "2023-03-22T17:05:33.921331Z",
     "iopub.status.idle": "2023-03-22T17:05:33.950765Z",
     "shell.execute_reply": "2023-03-22T17:05:33.949426Z",
     "shell.execute_reply.started": "2023-03-22T17:05:33.922510Z"
    }
   },
   "outputs": [],
   "source": [
    "X =df.drop(columns=['total score','avg score','math score'],axis=1)\n",
    "print(\"Data Shape is :\",X.shape)\n",
    "X.head()"
   ]
  },
  {
   "cell_type": "code",
   "execution_count": null,
   "metadata": {
    "execution": {
     "iopub.execute_input": "2023-03-22T17:05:33.953538Z",
     "iopub.status.busy": "2023-03-22T17:05:33.952774Z",
     "iopub.status.idle": "2023-03-22T17:05:33.964244Z",
     "shell.execute_reply": "2023-03-22T17:05:33.963068Z",
     "shell.execute_reply.started": "2023-03-22T17:05:33.953473Z"
    }
   },
   "outputs": [],
   "source": [
    "Y = df['math score']\n",
    "Y.head()"
   ]
  },
  {
   "cell_type": "markdown",
   "metadata": {},
   "source": [
    "### 5.3 Create Column Transformer with 3 types of transformers"
   ]
  },
  {
   "cell_type": "code",
   "execution_count": null,
   "metadata": {
    "execution": {
     "iopub.execute_input": "2023-03-22T17:05:33.966822Z",
     "iopub.status.busy": "2023-03-22T17:05:33.965746Z",
     "iopub.status.idle": "2023-03-22T17:05:33.981027Z",
     "shell.execute_reply": "2023-03-22T17:05:33.979200Z",
     "shell.execute_reply.started": "2023-03-22T17:05:33.966772Z"
    }
   },
   "outputs": [],
   "source": [
    "# Create Column Transformer with 3 types of transformers\n",
    "\n",
    "num_features = X.select_dtypes(exclude=\"object\").columns\n",
    "cat_features = X.select_dtypes(include=\"object\").columns\n",
    "\n",
    "from sklearn.preprocessing import OneHotEncoder, StandardScaler\n",
    "from sklearn.compose import ColumnTransformer\n",
    "\n",
    "numeric_transformer = StandardScaler()\n",
    "oh_transformer = OneHotEncoder()\n",
    "\n",
    "preprocessor = ColumnTransformer(\n",
    "    [\n",
    "        (\"OneHotEncoder\", oh_transformer, cat_features),\n",
    "         (\"StandardScaler\", numeric_transformer, num_features),        \n",
    "    ]\n",
    ")"
   ]
  },
  {
   "cell_type": "code",
   "execution_count": null,
   "metadata": {
    "execution": {
     "iopub.execute_input": "2023-03-22T17:05:33.984347Z",
     "iopub.status.busy": "2023-03-22T17:05:33.983071Z",
     "iopub.status.idle": "2023-03-22T17:05:34.017732Z",
     "shell.execute_reply": "2023-03-22T17:05:34.016451Z",
     "shell.execute_reply.started": "2023-03-22T17:05:33.984290Z"
    }
   },
   "outputs": [],
   "source": [
    "X = preprocessor.fit_transform(X)"
   ]
  },
  {
   "cell_type": "code",
   "execution_count": null,
   "metadata": {
    "execution": {
     "iopub.execute_input": "2023-03-22T17:05:34.020397Z",
     "iopub.status.busy": "2023-03-22T17:05:34.019314Z",
     "iopub.status.idle": "2023-03-22T17:05:34.029172Z",
     "shell.execute_reply": "2023-03-22T17:05:34.027542Z",
     "shell.execute_reply.started": "2023-03-22T17:05:34.020345Z"
    }
   },
   "outputs": [],
   "source": [
    "X.shape"
   ]
  },
  {
   "cell_type": "markdown",
   "metadata": {},
   "source": [
    "### 5.4 Separate dataset into train and test"
   ]
  },
  {
   "cell_type": "code",
   "execution_count": null,
   "metadata": {
    "execution": {
     "iopub.execute_input": "2023-03-22T17:05:34.031388Z",
     "iopub.status.busy": "2023-03-22T17:05:34.030880Z",
     "iopub.status.idle": "2023-03-22T17:05:34.044976Z",
     "shell.execute_reply": "2023-03-22T17:05:34.043739Z",
     "shell.execute_reply.started": "2023-03-22T17:05:34.031342Z"
    }
   },
   "outputs": [],
   "source": [
    "# separate dataset into train and test\n",
    "from sklearn.model_selection import train_test_split\n",
    "X_train, X_test, Y_train, Y_test = train_test_split(X,Y,test_size=0.2,random_state=42)\n",
    "X_train.shape, X_test.shape"
   ]
  },
  {
   "cell_type": "markdown",
   "metadata": {},
   "source": [
    "### 5.5 Create an Evaluate Function to give all metrics after model Training"
   ]
  },
  {
   "cell_type": "code",
   "execution_count": null,
   "metadata": {
    "execution": {
     "iopub.execute_input": "2023-03-22T17:05:34.047802Z",
     "iopub.status.busy": "2023-03-22T17:05:34.046588Z",
     "iopub.status.idle": "2023-03-22T17:05:34.053584Z",
     "shell.execute_reply": "2023-03-22T17:05:34.052576Z",
     "shell.execute_reply.started": "2023-03-22T17:05:34.047751Z"
    }
   },
   "outputs": [],
   "source": [
    "def evaluate_model(true, predicted):\n",
    "    mae = mean_absolute_error(true, predicted)\n",
    "    mse = mean_squared_error(true, predicted)\n",
    "    rmse = np.sqrt(mean_squared_error(true, predicted))\n",
    "    r2_square = r2_score(true, predicted)\n",
    "    return mae, rmse, r2_square"
   ]
  },
  {
   "cell_type": "markdown",
   "metadata": {},
   "source": [
    "### 5.6 Models Training"
   ]
  },
  {
   "cell_type": "code",
   "execution_count": null,
   "metadata": {
    "execution": {
     "iopub.execute_input": "2023-03-22T17:05:34.055487Z",
     "iopub.status.busy": "2023-03-22T17:05:34.055100Z",
     "iopub.status.idle": "2023-03-22T17:05:35.882525Z",
     "shell.execute_reply": "2023-03-22T17:05:35.880405Z",
     "shell.execute_reply.started": "2023-03-22T17:05:34.055452Z"
    }
   },
   "outputs": [],
   "source": [
    "models = {\n",
    "    \"Linear Regression\": LinearRegression(),\n",
    "    \"Lasso\": Lasso(),\n",
    "    \"Ridge\": Ridge(),\n",
    "    \"K-Neighbors Regressor\": KNeighborsRegressor(),\n",
    "    \"Decision Tree\": DecisionTreeRegressor(),\n",
    "    \"Random Forest Regressor\": RandomForestRegressor(),\n",
    "    \"XGBRegressor\": XGBRegressor(), \n",
    "    \"CatBoosting Regressor\": CatBoostRegressor(verbose=False),\n",
    "    \"AdaBoost Regressor\": AdaBoostRegressor()\n",
    "}\n",
    "model_list = []\n",
    "r2_list =[]\n",
    "\n",
    "# Train model\n",
    "for i in range(len(list(models))):\n",
    "    model = list(models.values())[i]\n",
    "    model.fit(X_train, Y_train) \n",
    "\n",
    "    # Make predictions\n",
    "    Y_train_pred = model.predict(X_train)\n",
    "    Y_test_pred = model.predict(X_test)\n",
    "    \n",
    "    # Evaluate Train and Test dataset\n",
    "    model_train_mae , model_train_rmse, model_train_r2 = evaluate_model(Y_train, Y_train_pred)\n",
    "\n",
    "    model_test_mae , model_test_rmse, model_test_r2 = evaluate_model(Y_test, Y_test_pred)\n",
    "\n",
    "    \n",
    "    print(list(models.keys())[i])\n",
    "    model_list.append(list(models.keys())[i])\n",
    "    \n",
    "    print('Model performance for Training set')\n",
    "    print(\"- Root Mean Squared Error: {:.4f}\".format(model_train_rmse))\n",
    "    print(\"- Mean Absolute Error: {:.4f}\".format(model_train_mae))\n",
    "    print(\"- R2 Score: {:.4f}\".format(model_train_r2))\n",
    "\n",
    "    print('----------------------------------')\n",
    "    \n",
    "    print('Model performance for Test set')\n",
    "    print(\"- Root Mean Squared Error: {:.4f}\".format(model_test_rmse))\n",
    "    print(\"- Mean Absolute Error: {:.4f}\".format(model_test_mae))\n",
    "    print(\"- R2 Score: {:.4f}\".format(model_test_r2))\n",
    "    r2_list.append(model_test_r2)\n",
    "    \n",
    "    print('='*35)\n",
    "    print('\\n')"
   ]
  },
  {
   "cell_type": "markdown",
   "metadata": {},
   "source": [
    "### 5.7 Results"
   ]
  },
  {
   "cell_type": "code",
   "execution_count": null,
   "metadata": {
    "execution": {
     "iopub.execute_input": "2023-03-22T17:05:35.884456Z",
     "iopub.status.busy": "2023-03-22T17:05:35.884076Z",
     "iopub.status.idle": "2023-03-22T17:05:35.898647Z",
     "shell.execute_reply": "2023-03-22T17:05:35.897313Z",
     "shell.execute_reply.started": "2023-03-22T17:05:35.884418Z"
    }
   },
   "outputs": [],
   "source": [
    "pd.DataFrame(list(zip(model_list, r2_list)), columns=['Model Name', 'R2_Score']).sort_values(by=[\"R2_Score\"],ascending=False)"
   ]
  },
  {
   "cell_type": "markdown",
   "metadata": {},
   "source": [
    "### 5.8 Linear Regression"
   ]
  },
  {
   "cell_type": "code",
   "execution_count": null,
   "metadata": {
    "execution": {
     "iopub.execute_input": "2023-03-22T17:05:35.901044Z",
     "iopub.status.busy": "2023-03-22T17:05:35.900574Z",
     "iopub.status.idle": "2023-03-22T17:05:35.921085Z",
     "shell.execute_reply": "2023-03-22T17:05:35.918976Z",
     "shell.execute_reply.started": "2023-03-22T17:05:35.900996Z"
    }
   },
   "outputs": [],
   "source": [
    "lin_model = LinearRegression(fit_intercept=True)\n",
    "lin_model = lin_model.fit(X_train, Y_train)\n",
    "Y_pred = lin_model.predict(X_test)\n",
    "score = r2_score(Y_test, Y_pred)*100\n",
    "print(\" Accuracy of the model is %.2f\" %score)"
   ]
  },
  {
   "cell_type": "markdown",
   "metadata": {},
   "source": [
    "### 5.9 Plot Y_pred and Y_test"
   ]
  },
  {
   "cell_type": "markdown",
   "metadata": {},
   "source": [
    "#### Scatter Plot of Actual vs. Predicted"
   ]
  },
  {
   "cell_type": "code",
   "execution_count": null,
   "metadata": {
    "execution": {
     "iopub.execute_input": "2023-03-22T17:05:35.925290Z",
     "iopub.status.busy": "2023-03-22T17:05:35.923526Z",
     "iopub.status.idle": "2023-03-22T17:05:36.355638Z",
     "shell.execute_reply": "2023-03-22T17:05:36.354327Z",
     "shell.execute_reply.started": "2023-03-22T17:05:35.925198Z"
    }
   },
   "outputs": [],
   "source": [
    "from matplotlib import cm\n",
    "# Create the scatter plot\n",
    "fig, ax = plt.subplots()\n",
    "sc = ax.scatter(Y_test, Y_pred, c=Y_test, cmap=cm.viridis)\n",
    "fig.colorbar(sc)\n",
    "\n",
    "# Set the axis labels\n",
    "ax.set_xlabel('Actual')\n",
    "ax.set_ylabel('Predicted')\n",
    "ax.set_title('Scatter Plot of Actual vs. Predicted')\n",
    "\n",
    "plt.show()"
   ]
  },
  {
   "cell_type": "markdown",
   "metadata": {},
   "source": [
    "#### Regression Plot of Actual vs. Predicted"
   ]
  },
  {
   "cell_type": "code",
   "execution_count": null,
   "metadata": {
    "execution": {
     "iopub.execute_input": "2023-03-22T17:05:36.357790Z",
     "iopub.status.busy": "2023-03-22T17:05:36.357329Z",
     "iopub.status.idle": "2023-03-22T17:05:36.945439Z",
     "shell.execute_reply": "2023-03-22T17:05:36.944175Z",
     "shell.execute_reply.started": "2023-03-22T17:05:36.357756Z"
    }
   },
   "outputs": [],
   "source": [
    "# Create the regression plot\n",
    "sns.set_style('whitegrid')\n",
    "sns.regplot(x=Y_test, y=Y_pred, ci=None, color='mediumorchid', line_kws={'lw':2})\n",
    "\n",
    "# Set the axis labels and title\n",
    "plt.xlabel('Actual')\n",
    "plt.ylabel('Predicted')\n",
    "plt.title('Regression Plot of Actual vs. Predicted')\n",
    "\n",
    "plt.show()"
   ]
  },
  {
   "cell_type": "markdown",
   "metadata": {},
   "source": [
    "### 5.10 Difference between Actual and Predicted Values"
   ]
  },
  {
   "cell_type": "code",
   "execution_count": null,
   "metadata": {
    "execution": {
     "iopub.execute_input": "2023-03-22T17:05:36.947185Z",
     "iopub.status.busy": "2023-03-22T17:05:36.946856Z",
     "iopub.status.idle": "2023-03-22T17:05:36.964169Z",
     "shell.execute_reply": "2023-03-22T17:05:36.962789Z",
     "shell.execute_reply.started": "2023-03-22T17:05:36.947154Z"
    }
   },
   "outputs": [],
   "source": [
    "pred_df=pd.DataFrame({'Actual Value':Y_test,'Predicted Value':Y_pred,'Difference':Y_test-Y_pred})\n",
    "pred_df"
   ]
  }
 ],
 "metadata": {
  "kernelspec": {
   "display_name": "Python 3 (ipykernel)",
   "language": "python",
   "name": "python3"
  },
  "language_info": {
   "codemirror_mode": {
    "name": "ipython",
    "version": 3
   },
   "file_extension": ".py",
   "mimetype": "text/x-python",
   "name": "python",
   "nbconvert_exporter": "python",
   "pygments_lexer": "ipython3",
   "version": "3.7.8"
  }
 },
 "nbformat": 4,
 "nbformat_minor": 4
}
